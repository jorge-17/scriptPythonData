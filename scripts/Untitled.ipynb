{
 "cells": [
  {
   "cell_type": "code",
   "execution_count": 129,
   "id": "83806e47-a2d9-42a1-a440-1a9b65ee2c8b",
   "metadata": {},
   "outputs": [],
   "source": [
    "from pyspark.sql import SparkSession\n",
    "from pyspark.sql.functions import sum, avg,col,first,when,udf\n",
    "from pyspark.sql.types import StringType\n",
    "ss = SparkSession.builder.getOrCreate()"
   ]
  },
  {
   "cell_type": "code",
   "execution_count": 130,
   "id": "e90d2113-dfb4-475c-8959-41d65cb4753c",
   "metadata": {},
   "outputs": [],
   "source": [
    "df = ss.read.format(\"csv\").options(header='true', inferSchema='true', delimiter=',').load(\"df.csv\")\n",
    "\n",
    "#df.show()"
   ]
  },
  {
   "cell_type": "code",
   "execution_count": 131,
   "id": "de9c81fe-5335-4743-a1aa-08dcd0923198",
   "metadata": {
    "scrolled": true
   },
   "outputs": [],
   "source": [
    "dfPivot = df.groupBy(\"NumEtiqueta\").pivot(\"CoEtiqueta\").agg({\"idRep\": \"avg\"})\n",
    "#dfPivot.show()"
   ]
  },
  {
   "cell_type": "code",
   "execution_count": 132,
   "id": "951dad9c-f089-4ab0-ae0b-8d43ecbd05fe",
   "metadata": {
    "scrolled": true
   },
   "outputs": [
    {
     "name": "stdout",
     "output_type": "stream",
     "text": [
      "+-----+-------+---------+-----------+---+---+--------+--------+\n",
      "|idRep|FolioBC|CoCliente|NumEtiqueta|  1|  2|       3|       4|\n",
      "+-----+-------+---------+-----------+---+---+--------+--------+\n",
      "|    1|   1234|       17|          1| 01| AA|01031993|1111U211|\n",
      "|    1|   1234|       17|          2| 02| AB|02041993|1711U211|\n",
      "|    1|   1234|       17|          3| 03| AC|03051993|1721U211|\n",
      "|    2|   1235|       34|          1| 01| AD|01031993|1111U211|\n",
      "|    2|   1235|       34|          2| 02| AE|02041993|1711U211|\n",
      "|    2|   1235|       34|          3| 03| AF|03051993|1721U211|\n",
      "+-----+-------+---------+-----------+---+---+--------+--------+\n",
      "\n"
     ]
    }
   ],
   "source": [
    "#Se realiza el pivote del data frame usando como pivote las etiquetas\n",
    "dfGroup = df.groupBy(\"idRep\",\"FolioBC\",\"CoCliente\",\"NumEtiqueta\").pivot(\"CoEtiqueta\").agg(first(\"ValorEtiqueta\"))\n",
    "dfGroup.show()"
   ]
  },
  {
   "cell_type": "code",
   "execution_count": 135,
   "id": "565c74ed-cfab-4aa6-a0c7-246b067fc460",
   "metadata": {},
   "outputs": [],
   "source": [
    "dfFiltrado = dfGroup.filter((col(\"1\") == \"01\") & (col(\"2\") == \"AA\"))\n",
    "#dfFiltrado.show()"
   ]
  },
  {
   "cell_type": "code",
   "execution_count": 156,
   "id": "415dfd35-196e-42d9-8697-a9d31d16fa83",
   "metadata": {},
   "outputs": [],
   "source": [
    "def reg1(col1, col2, valores_permitidos):\n",
    "    if col1 == '-' or col2 == '-':\n",
    "        return '0'\n",
    "    if col1 == '01' and col2 in valores_permitidos:\n",
    "        return '1'\n",
    "    else:\n",
    "        return '0'"
   ]
  },
  {
   "cell_type": "code",
   "execution_count": 157,
   "id": "80f689a3-5063-45d1-91bf-56e05413772d",
   "metadata": {},
   "outputs": [],
   "source": [
    "# Registrar la función como una UDF (User Defined Function)\n",
    "reg1_udf = udf(lambda col1, col2: reg1(col1, col2, [\"AA\", \"AC\", \"AE\"]), StringType())\n"
   ]
  },
  {
   "cell_type": "code",
   "execution_count": 159,
   "id": "695562c1-47c8-484a-895c-3445ca6c96c6",
   "metadata": {},
   "outputs": [
    {
     "name": "stdout",
     "output_type": "stream",
     "text": [
      "+-----+-------+---------+-----------+---+---+--------+--------+-------+\n",
      "|idRep|FolioBC|CoCliente|NumEtiqueta|  1|  2|       3|       4|malBuro|\n",
      "+-----+-------+---------+-----------+---+---+--------+--------+-------+\n",
      "|    1|   1234|       17|          1| 01| AA|01031993|1111U211|      1|\n",
      "|    1|   1234|       17|          2| 02| AB|02041993|1711U211|      0|\n",
      "|    1|   1234|       17|          3| 03| AC|03051993|1721U211|      0|\n",
      "|    2|   1235|       34|          1| 01| AD|01031993|1111U211|      0|\n",
      "|    2|   1235|       34|          2| 02| AE|02041993|1711U211|      0|\n",
      "|    2|   1235|       34|          3| 03| AF|03051993|1721U211|      0|\n",
      "+-----+-------+---------+-----------+---+---+--------+--------+-------+\n",
      "\n"
     ]
    }
   ],
   "source": [
    "## Aplicar el filtro y agregar la nueva columna usando la función reg1\n",
    "result_df = dfGroup.withColumn(\"malBuro\", reg1_udf(col(\"1\"), col(\"2\")))\n",
    "\n",
    "\n",
    "result_df.show()\n"
   ]
  },
  {
   "cell_type": "code",
   "execution_count": null,
   "id": "e7608e50-c548-455a-b3d6-208b65aecc55",
   "metadata": {},
   "outputs": [],
   "source": []
  }
 ],
 "metadata": {
  "kernelspec": {
   "display_name": "Python 3 (ipykernel)",
   "language": "python",
   "name": "python3"
  },
  "language_info": {
   "codemirror_mode": {
    "name": "ipython",
    "version": 3
   },
   "file_extension": ".py",
   "mimetype": "text/x-python",
   "name": "python",
   "nbconvert_exporter": "python",
   "pygments_lexer": "ipython3",
   "version": "3.10.12"
  }
 },
 "nbformat": 4,
 "nbformat_minor": 5
}
