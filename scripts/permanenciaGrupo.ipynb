{
 "cells": [
  {
   "cell_type": "code",
   "execution_count": 21,
   "id": "4d67c1a6-0e7c-490d-a562-1d96bb49461f",
   "metadata": {},
   "outputs": [],
   "source": [
    "from pyspark.sql import SparkSession\n",
    "from pyspark.sql.functions import sum, avg,col,first,when,udf\n",
    "from pyspark.sql.types import *\n",
    "ss = SparkSession.builder.getOrCreate()"
   ]
  },
  {
   "cell_type": "code",
   "execution_count": 22,
   "id": "eb1c57b1-8b6d-4cbf-9562-9f553e4561ac",
   "metadata": {},
   "outputs": [],
   "source": [
    "df = ss.read.format(\"csv\").options(header='true', delimiter=',').load(\"gruposT.csv\")"
   ]
  },
  {
   "cell_type": "code",
   "execution_count": 23,
   "id": "bf484207-3869-4f24-bb0e-35dfa1ad03d6",
   "metadata": {},
   "outputs": [
    {
     "name": "stdout",
     "output_type": "stream",
     "text": [
      "+-----+-----------------+-----+--------------------+------+\n",
      "|grupo|       clientes_t|contT|         clientes_t6|contT6|\n",
      "+-----+-----------------+-----+--------------------+------+\n",
      "| asdf|      1,2,3,4,5,6|    6|1,2,3,4,5,6,7,8,9,10|    10|\n",
      "| qwer|   11,12,13,14,15|    5|                   0|     0|\n",
      "| zxcv|28,29,30,31,32,33|    6|20,21,21,23,24,25...|     8|\n",
      "+-----+-----------------+-----+--------------------+------+\n",
      "\n"
     ]
    }
   ],
   "source": [
    "df.show()"
   ]
  },
  {
   "cell_type": "code",
   "execution_count": 24,
   "id": "30635ccb-0cd9-45c4-8685-bdcbcb16caa2",
   "metadata": {},
   "outputs": [],
   "source": [
    "def cortarCadena(cadena):\n",
    "    return cadena.split(\",\")"
   ]
  },
  {
   "cell_type": "code",
   "execution_count": 25,
   "id": "804136cd-0657-44e0-8588-bbe8694c6047",
   "metadata": {},
   "outputs": [],
   "source": [
    "def permanencia(clientesT, clentesT6):\n",
    "    return len([x for x in clientesT if x in clentesT6])"
   ]
  },
  {
   "cell_type": "code",
   "execution_count": 33,
   "id": "b7ab3658-2740-49b5-a686-94d930edaa71",
   "metadata": {},
   "outputs": [],
   "source": [
    "#params(NoPermanencia, ConteoMesT-6)\n",
    "def validarPerm(perm, lenT6):\n",
    "    perm = int(perm)\n",
    "    lenT6 = int(lenT6)\n",
    "    if lenT6 == 0:#Caso en que el grupo es nuevo Ejemplo 2\n",
    "        return 2.0\n",
    "    elif lenT6 > 0 and perm == 0:#Caso en que los que dispersaron en marzo no dispersaron en sep Ejemplo 3\n",
    "        return 0.0\n",
    "    elif lenT6 > 0 and perm > 0:#Caso en que se tienen algunos que dispersaron septiembre y en marzo Ejemplo 1\n",
    "        return perm/lenT6"
   ]
  },
  {
   "cell_type": "code",
   "execution_count": 34,
   "id": "faee00a5",
   "metadata": {},
   "outputs": [],
   "source": [
    "def getRotacion(valPermanencia):\n",
    "    return 1 - valPermanencia"
   ]
  },
  {
   "cell_type": "code",
   "execution_count": 40,
   "id": "ded4c411-0930-482a-a321-ebbe4d0fc1d6",
   "metadata": {},
   "outputs": [],
   "source": [
    "cortarCadena_udf = udf(cortarCadena, ArrayType(StringType()))\n",
    "permanencia_udf = udf(permanencia, IntegerType())\n",
    "validarPerm_udf = udf(validarPerm, FloatType())\n",
    "getRotacion_udf = udf(getRotacion, FloatType())"
   ]
  },
  {
   "cell_type": "code",
   "execution_count": 41,
   "id": "3101d028-e2c8-4baa-8f80-f4c0a09a0330",
   "metadata": {},
   "outputs": [],
   "source": [
    "df = df.withColumn(\"arrClientesT\", cortarCadena_udf(df.clientes_t))\n",
    "df = df.withColumn(\"arrClientesT6\", cortarCadena_udf(df.clientes_t6))"
   ]
  },
  {
   "cell_type": "code",
   "execution_count": 42,
   "id": "88ebcb6a-5966-45e3-b203-26c780a60e39",
   "metadata": {},
   "outputs": [],
   "source": [
    "df = df.withColumn(\"permanencia\", permanencia_udf(df.arrClientesT, df.arrClientesT6))"
   ]
  },
  {
   "cell_type": "code",
   "execution_count": 43,
   "id": "678a8fc4-9f63-4ccc-baaf-db58bcf0325f",
   "metadata": {},
   "outputs": [],
   "source": [
    "df = df.withColumn(\"valPermanencia\", validarPerm_udf(df.permanencia, df.contT6))"
   ]
  },
  {
   "cell_type": "code",
   "execution_count": 44,
   "id": "b502dbb7-8064-4203-8346-86ff92f8d5cc",
   "metadata": {},
   "outputs": [
    {
     "name": "stdout",
     "output_type": "stream",
     "text": [
      "+-----+-----------------+-----+--------------------+------+--------------------+--------------------+-----------+--------------+-----------+\n",
      "|grupo|       clientes_t|contT|         clientes_t6|contT6|        arrClientesT|       arrClientesT6|permanencia|valPermanencia|valRotacion|\n",
      "+-----+-----------------+-----+--------------------+------+--------------------+--------------------+-----------+--------------+-----------+\n",
      "| asdf|      1,2,3,4,5,6|    6|1,2,3,4,5,6,7,8,9,10|    10|  [1, 2, 3, 4, 5, 6]|[1, 2, 3, 4, 5, 6...|          6|           0.6|        0.4|\n",
      "| qwer|   11,12,13,14,15|    5|                   0|     0|[11, 12, 13, 14, 15]|                 [0]|          0|           2.0|       -1.0|\n",
      "| zxcv|28,29,30,31,32,33|    6|20,21,21,23,24,25...|     8|[28, 29, 30, 31, ...|[20, 21, 21, 23, ...|          0|           0.0|        1.0|\n",
      "+-----+-----------------+-----+--------------------+------+--------------------+--------------------+-----------+--------------+-----------+\n",
      "\n"
     ]
    }
   ],
   "source": [
    "df = df.withColumn(\"valRotacion\", getRotacion_udf(df.valPermanencia))\n",
    "df.show()"
   ]
  },
  {
   "cell_type": "code",
   "execution_count": null,
   "id": "b51aa721",
   "metadata": {},
   "outputs": [],
   "source": []
  }
 ],
 "metadata": {
  "kernelspec": {
   "display_name": "Python 3 (ipykernel)",
   "language": "python",
   "name": "python3"
  },
  "language_info": {
   "codemirror_mode": {
    "name": "ipython",
    "version": 3
   },
   "file_extension": ".py",
   "mimetype": "text/x-python",
   "name": "python",
   "nbconvert_exporter": "python",
   "pygments_lexer": "ipython3",
   "version": "3.10.12"
  }
 },
 "nbformat": 4,
 "nbformat_minor": 5
}
