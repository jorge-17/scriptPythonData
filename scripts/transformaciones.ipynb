{
 "cells": [
  {
   "cell_type": "code",
   "execution_count": 1,
   "id": "27480cd9-0a80-44f2-a77e-1c4c5fab75cc",
   "metadata": {},
   "outputs": [],
   "source": [
    "from pyspark import SparkContext"
   ]
  },
  {
   "cell_type": "code",
   "execution_count": 2,
   "id": "9b8fe982-928b-4860-a8a9-322c99216d0d",
   "metadata": {},
   "outputs": [
    {
     "name": "stderr",
     "output_type": "stream",
     "text": [
      "24/01/17 21:13:54 WARN Utils: Your hostname, jrodarte-ThinkPad-T480 resolves to a loopback address: 127.0.1.1; using 192.168.100.12 instead (on interface wlp3s0)\n",
      "24/01/17 21:13:54 WARN Utils: Set SPARK_LOCAL_IP if you need to bind to another address\n",
      "Setting default log level to \"WARN\".\n",
      "To adjust logging level use sc.setLogLevel(newLevel). For SparkR, use setLogLevel(newLevel).\n",
      "24/01/17 21:13:57 WARN NativeCodeLoader: Unable to load native-hadoop library for your platform... using builtin-java classes where applicable\n"
     ]
    }
   ],
   "source": [
    "sc = SparkContext()"
   ]
  },
  {
   "cell_type": "code",
   "execution_count": 3,
   "id": "edb0f2ce-d534-4f99-ba90-0c5e385e0a84",
   "metadata": {},
   "outputs": [],
   "source": [
    "lista = [1,2,3,4,5]"
   ]
  },
  {
   "cell_type": "code",
   "execution_count": 4,
   "id": "0685aa75-b984-4166-8fa3-f4fa3d1adf9c",
   "metadata": {},
   "outputs": [],
   "source": [
    "rdd = sc.parallelize(lista)"
   ]
  },
  {
   "cell_type": "code",
   "execution_count": 5,
   "id": "83f3ef0a-5472-412c-a8ba-b1fc1143802a",
   "metadata": {},
   "outputs": [
    {
     "name": "stderr",
     "output_type": "stream",
     "text": [
      "                                                                                \r"
     ]
    },
    {
     "data": {
      "text/plain": [
       "[1, 2, 3, 4, 5]"
      ]
     },
     "execution_count": 5,
     "metadata": {},
     "output_type": "execute_result"
    }
   ],
   "source": [
    "rdd.collect()"
   ]
  },
  {
   "cell_type": "code",
   "execution_count": 6,
   "id": "ee76a761-7711-4783-97f1-d6422758252a",
   "metadata": {},
   "outputs": [],
   "source": [
    "# filter() filtra los elementos de un rdd"
   ]
  },
  {
   "cell_type": "code",
   "execution_count": 8,
   "id": "55716414-137e-45ef-b77c-57c615b944f0",
   "metadata": {},
   "outputs": [],
   "source": [
    "filtradoRdd = rdd.filter(lambda x: x > 1)"
   ]
  },
  {
   "cell_type": "code",
   "execution_count": 9,
   "id": "9276026c-fd6d-4b85-ae0d-6baa5708b4e4",
   "metadata": {},
   "outputs": [
    {
     "name": "stderr",
     "output_type": "stream",
     "text": [
      "                                                                                \r"
     ]
    },
    {
     "data": {
      "text/plain": [
       "[2, 3, 4, 5]"
      ]
     },
     "execution_count": 9,
     "metadata": {},
     "output_type": "execute_result"
    }
   ],
   "source": [
    "filtradoRdd.collect()"
   ]
  },
  {
   "cell_type": "code",
   "execution_count": 10,
   "id": "c4758b1e-d28b-40d9-ad93-01f3bf3f2a89",
   "metadata": {},
   "outputs": [],
   "source": [
    "#map() aplica funcion a los elementos de un rdd"
   ]
  },
  {
   "cell_type": "code",
   "execution_count": 11,
   "id": "631f4a55-2782-457a-83c4-cc2e2e050431",
   "metadata": {},
   "outputs": [],
   "source": [
    "def suma(x):\n",
    "    return(x+1)"
   ]
  },
  {
   "cell_type": "code",
   "execution_count": 12,
   "id": "f5e9bc92-f52c-45cf-9f96-744fde7bd2ed",
   "metadata": {},
   "outputs": [],
   "source": [
    "filtradoSumaRdd = filtradoRdd.map(suma)"
   ]
  },
  {
   "cell_type": "code",
   "execution_count": 13,
   "id": "bc26d2b8-cfaa-45b9-bbfc-b05fa733174e",
   "metadata": {},
   "outputs": [
    {
     "name": "stderr",
     "output_type": "stream",
     "text": [
      "                                                                                \r"
     ]
    },
    {
     "data": {
      "text/plain": [
       "[3, 4, 5, 6]"
      ]
     },
     "execution_count": 13,
     "metadata": {},
     "output_type": "execute_result"
    }
   ],
   "source": [
    "filtradoSumaRdd.collect()"
   ]
  },
  {
   "cell_type": "code",
   "execution_count": 14,
   "id": "3ea13ba2-e86d-49cd-b125-424906346d36",
   "metadata": {},
   "outputs": [],
   "source": [
    "cuadrado_rdd = (filtradoRdd\n",
    "                .map(suma)\n",
    "                .map(lambda x: (x, x**2)))"
   ]
  },
  {
   "cell_type": "code",
   "execution_count": 15,
   "id": "1f38240c-5bb5-4065-8b40-0516e847f905",
   "metadata": {},
   "outputs": [
    {
     "name": "stderr",
     "output_type": "stream",
     "text": [
      "                                                                                \r"
     ]
    },
    {
     "data": {
      "text/plain": [
       "[(3, 9), (4, 16), (5, 25), (6, 36)]"
      ]
     },
     "execution_count": 15,
     "metadata": {},
     "output_type": "execute_result"
    }
   ],
   "source": [
    "cuadrado_rdd.collect()"
   ]
  },
  {
   "cell_type": "code",
   "execution_count": 16,
   "id": "e5666a42-b871-4d00-a6a8-eb1809367b75",
   "metadata": {},
   "outputs": [],
   "source": [
    "# flatMap() es igual que map() pero al final lo convierte a una lista simple"
   ]
  },
  {
   "cell_type": "code",
   "execution_count": 17,
   "id": "4c33200f-1f11-4618-8322-66dc853bba5a",
   "metadata": {},
   "outputs": [],
   "source": [
    "cuadrado_rdd = (filtradoRdd\n",
    "                .map(suma)\n",
    "                .flatMap(lambda x: (x, x**2)))"
   ]
  },
  {
   "cell_type": "code",
   "execution_count": 18,
   "id": "e697c771-bb29-4ef0-a368-b01ab939c4c1",
   "metadata": {},
   "outputs": [
    {
     "name": "stderr",
     "output_type": "stream",
     "text": [
      "                                                                                \r"
     ]
    },
    {
     "data": {
      "text/plain": [
       "[3, 9, 4, 16, 5, 25, 6, 36]"
      ]
     },
     "execution_count": 18,
     "metadata": {},
     "output_type": "execute_result"
    }
   ],
   "source": [
    "cuadrado_rdd.collect()"
   ]
  },
  {
   "cell_type": "code",
   "execution_count": null,
   "id": "905f9890-d8fa-4b0e-90da-3057c7981e7f",
   "metadata": {},
   "outputs": [],
   "source": []
  }
 ],
 "metadata": {
  "kernelspec": {
   "display_name": "Python 3 (ipykernel)",
   "language": "python",
   "name": "python3"
  },
  "language_info": {
   "codemirror_mode": {
    "name": "ipython",
    "version": 3
   },
   "file_extension": ".py",
   "mimetype": "text/x-python",
   "name": "python",
   "nbconvert_exporter": "python",
   "pygments_lexer": "ipython3",
   "version": "3.10.12"
  }
 },
 "nbformat": 4,
 "nbformat_minor": 5
}
